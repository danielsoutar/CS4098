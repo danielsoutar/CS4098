{
 "cells": [
  {
   "cell_type": "markdown",
   "metadata": {},
   "source": [
    "# Modelling and Evaluation Notebook\n",
    "## Selecting, validating, and evaluating different models on the data"
   ]
  },
  {
   "cell_type": "code",
   "execution_count": 1,
   "metadata": {},
   "outputs": [],
   "source": [
    "%load_ext watermark"
   ]
  },
  {
   "cell_type": "code",
   "execution_count": 2,
   "metadata": {},
   "outputs": [
    {
     "name": "stdout",
     "output_type": "stream",
     "text": [
      "Daniel Soutar 2018-02-25 \n",
      "\n",
      "CPython 3.6.3\n",
      "IPython 6.2.1\n",
      "\n",
      "numpy 1.14.1\n",
      "pandas 0.22.0\n",
      "sklearn 0.19.1\n",
      "matplotlib 2.1.2\n",
      "seaborn 0.8.1\n",
      "imblearn 0.3.2\n",
      "\n",
      "compiler   : GCC 4.2.1 Compatible Apple LLVM 6.1.0 (clang-602.0.53)\n",
      "system     : Darwin\n",
      "release    : 16.7.0\n",
      "machine    : x86_64\n",
      "processor  : i386\n",
      "CPU cores  : 4\n",
      "interpreter: 64bit\n",
      "Git repo   : https://github.com/danielsoutar/CS4098.git\n"
     ]
    }
   ],
   "source": [
    "%watermark -a 'Daniel Soutar' -d -nrmv --packages numpy,pandas,sklearn,matplotlib,seaborn,imblearn"
   ]
  },
  {
   "cell_type": "code",
   "execution_count": 44,
   "metadata": {},
   "outputs": [],
   "source": [
    "import glob\n",
    "import pickle\n",
    "import numpy as np\n",
    "import matplotlib.pyplot as plt\n",
    "import pandas as pd\n",
    "import seaborn as sb\n",
    "from sklearn.naive_bayes import GaussianNB\n",
    "from sklearn.tree import DecisionTreeClassifier\n",
    "from sklearn.model_selection import GridSearchCV\n",
    "from sklearn.metrics import confusion_matrix, f1_score, roc_curve, auc, make_scorer\n",
    "\n",
    "from sklearn.model_selection import cross_val_score, cross_val_predict, train_test_split, StratifiedKFold\n",
    "from sklearn import svm\n",
    "from scipy import interp\n",
    "import itertools\n",
    "from imblearn.over_sampling import ADASYN, SMOTE"
   ]
  },
  {
   "cell_type": "code",
   "execution_count": 33,
   "metadata": {},
   "outputs": [],
   "source": [
    "def plot_confusion_matrix(cm, classes,\n",
    "                          normalize=False,\n",
    "                          title='Confusion matrix',\n",
    "                          cmap=plt.cm.Blues):\n",
    "    \"\"\"\n",
    "    This function prints and plots the confusion matrix.\n",
    "    Normalization can be applied by setting `normalize=True`.\n",
    "    \"\"\"\n",
    "    if normalize:\n",
    "        cm = cm.astype('float') / cm.sum(axis=1)[:, np.newaxis]\n",
    "\n",
    "    plt.imshow(cm, interpolation='nearest', cmap=cmap)\n",
    "    plt.title(title)\n",
    "    plt.colorbar()\n",
    "    tick_marks = np.arange(len(classes))\n",
    "    plt.xticks(tick_marks, classes, rotation=45)\n",
    "    plt.yticks(tick_marks, classes)\n",
    "\n",
    "    fmt = '.2f' if normalize else 'd'\n",
    "    thresh = cm.max() / 2.\n",
    "    for i, j in itertools.product(range(cm.shape[0]), range(cm.shape[1])):\n",
    "        plt.text(j, i, format(cm[i, j], fmt),\n",
    "                 horizontalalignment=\"center\",\n",
    "                 color=\"white\" if cm[i, j] > thresh else \"black\")\n",
    "\n",
    "    plt.tight_layout()\n",
    "    plt.ylabel('True label')\n",
    "    plt.xlabel('Predicted label')"
   ]
  },
  {
   "cell_type": "code",
   "execution_count": 5,
   "metadata": {},
   "outputs": [],
   "source": [
    "# This is it! Our real dataset.\n",
    "X = np.empty([59, 21], dtype=np.float32)\n",
    "y = np.zeros([59], dtype=np.float32)\n",
    "\n",
    "positives = []\n",
    "positive_files = [\"./inputs/_outDONEIN736-SN97.txt\",\n",
    "                  \"./inputs/_outDONEIN733-SN103.txt\",\n",
    "                  \"./inputs/_outDONEIN805-SN126.txt\",\n",
    "                  \"./inputs/_outDONEIN793-SN74.txt\",\n",
    "                  \"./inputs/_outDONEIN781-SN7.txt\"]\n",
    "\n",
    "# Have to be careful to sort the results of glob - it does not guarantee an ordering for what it returns\n",
    "for i, file in enumerate(sorted(glob.glob(\"./inputs/*.txt\"))):\n",
    "    f = open(file,'r')\n",
    "   \n",
    "    if file in positive_files:\n",
    "        positives.append(i)\n",
    "        y[i] = 1\n",
    "\n",
    "    lines = f.readlines()[4:]\n",
    "    arr = np.zeros(21, dtype=np.float32)\n",
    "    for x, line in enumerate(lines):\n",
    "        arr[x] = int(line.split(',')[1])\n",
    "    \n",
    "    my_sum = sum(arr)\n",
    "    arr = arr / my_sum\n",
    "#     print(file[9:] + \": \" + str(sum(arr)))\n",
    "    X[i] = arr\n"
   ]
  },
  {
   "cell_type": "code",
   "execution_count": 6,
   "metadata": {},
   "outputs": [],
   "source": [
    "X_minority, X_majority, y_minority, y_majority = np.take(X, positives, axis=0), np.delete(X, positives, axis=0), \\\n",
    "                                                    np.take(y, positives, axis=0), np.delete(y, positives, axis=0)\n",
    "    \n",
    "sampler = SMOTE(random_state=0, k_neighbors=4, kind='svm')\n",
    "X_smote, y_smote = sampler.fit_sample(X, y)\n",
    "\n",
    "smote_X_minority = np.take(X_smote, np.where(y_smote == 1), axis=0)[0]\n",
    "smote_y_minority = np.take(y_smote, np.where(y_smote == 1), axis=0)[0]\n",
    "\n",
    "smote_X_train, smote_X_test, smote_y_train, smote_y_test = train_test_split(X_smote, y_smote, train_size=0.8, test_size=0.2, random_state=0, stratify=y_smote)"
   ]
  },
  {
   "cell_type": "code",
   "execution_count": 88,
   "metadata": {},
   "outputs": [],
   "source": [
    "plt.rc('legend',fontsize=6)\n",
    "\n",
    "def plot_roc_multiple(X, y, classifiers, name):\n",
    "    print(classifiers)\n",
    "    for classifier in classifiers:\n",
    "        print(classifier)\n",
    "        cv = StratifiedKFold(n_splits=10)\n",
    "\n",
    "        tprs = []\n",
    "        aucs = []\n",
    "        mean_fpr = np.linspace(0, 1, 100)\n",
    "\n",
    "        i = 0\n",
    "        for train, test in cv.split(X, y):\n",
    "            probas_ = classifier.fit(X[train], y[train]).predict_proba(X[test])\n",
    "            fpr, tpr, thresholds = roc_curve(y[test], probas_[:, 1])\n",
    "            tprs.append(interp(mean_fpr, fpr, tpr))\n",
    "            tprs[-1][0] = 0.0\n",
    "            roc_auc = auc(fpr, tpr)\n",
    "            aucs.append(roc_auc)\n",
    "#             plt.plot(fpr, tpr, lw=1, alpha=0.6,\n",
    "#                      label='ROC fold %d (AUC = %0.2f)' % (i, roc_auc))\n",
    "\n",
    "            i += 1\n",
    "\n",
    "        mean_tpr = np.mean(tprs, axis=0)\n",
    "        mean_tpr[-1] = 1.0\n",
    "        mean_auc = auc(mean_fpr, mean_tpr)\n",
    "        std_auc = np.std(aucs)\n",
    "        plt.plot(mean_fpr, mean_tpr, color='b',\n",
    "                 label=r'Mean ROC (AUC = %0.2f $\\pm$ %0.2f)' % (mean_auc, std_auc),\n",
    "                 lw=2, alpha=.8)\n",
    "\n",
    "        std_tpr = np.std(tprs, axis=0)\n",
    "        tprs_upper = np.minimum(mean_tpr + std_tpr, 1)\n",
    "        tprs_lower = np.maximum(mean_tpr - std_tpr, 0)\n",
    "#         plt.fill_between(mean_fpr, tprs_lower, tprs_upper, color='grey', alpha=.2,\n",
    "#                          label=r'$\\pm$ 1 std. dev.')\n",
    "\n",
    "    plt.plot([0, 1], [0, 1], linestyle='--', lw=2, color='r',\n",
    "                 label='Luck', alpha=.8)\n",
    "  \n",
    "    plt.xlim([-0.03, 1.03])\n",
    "    plt.ylim([-0.03, 1.03])\n",
    "    plt.xlabel('False Positive Rate')\n",
    "    plt.ylabel('True Positive Rate')\n",
    "    plt.title('ROC Curve: ' + name)\n",
    "    plt.legend(loc=\"lower right\")\n",
    "    plt.show()"
   ]
  },
  {
   "cell_type": "markdown",
   "metadata": {},
   "source": [
    "Let's do Naive Bayes first.\n",
    "Naive Bayes implements Bayes' Theorem with the caveat that we make a 'naive' assumption of independence. That is, we assume every feature is independent of the others. With the GaussianNB classifier we further assume that the data follows a Gaussian or normal distribution. \n",
    "\n",
    "The nice thing about this classifier is that even when it is patently nonsense to assume independence of the features, in practice this often still works well, with uses including spam filtering. Additionally, it is very computationally cheap to train, straightforward to understand, and requires very little tuning apart from setting the 'priors', or the prior class distributions."
   ]
  },
  {
   "cell_type": "markdown",
   "metadata": {},
   "source": [
    "After SMOTE we have 34 positives, but let's not hardcode the values of our class priors - let the ratios in the data do the work for us!"
   ]
  },
  {
   "cell_type": "code",
   "execution_count": 89,
   "metadata": {},
   "outputs": [
    {
     "name": "stdout",
     "output_type": "stream",
     "text": [
      "GaussianNB(priors=array([0.38636, 0.61364]))\n"
     ]
    },
    {
     "data": {
      "image/png": "[encoded data removed]",
      "text/plain": [
       "<matplotlib.figure.Figure at 0x1183a5a90>"
      ]
     },
     "metadata": {},
     "output_type": "display_data"
    },
    {
     "data": {
      "image/png": "[encoded data removed]",
      "text/plain": [
       "<matplotlib.figure.Figure at 0x1183a5470>"
      ]
     },
     "metadata": {},
     "output_type": "display_data"
    }
   ],
   "source": [
    "smote_positives_ratio = smote_X_minority.shape[0]/X_smote.shape[0]\n",
    "smote_negatives_ratio = 1 - smote_positives_ratio\n",
    "\n",
    "smote_nb_priors = np.array([smote_positives_ratio, smote_negatives_ratio])\n",
    "naive_bayes_inc_smote_priors = GaussianNB(smote_nb_priors)\n",
    "\n",
    "plot_roc_multiple(smote_X_train, smote_y_train, [naive_bayes_inc_smote_priors], \"Naïve Bayes\")\n",
    "\n",
    "smote_y_pred = cross_val_predict(clf, smote_X_train, smote_y_train, cv=StratifiedKFold(n_splits=10))\n",
    "cnf_matrix = confusion_matrix(smote_y_train, smote_y_pred)\n",
    "np.set_printoptions(precision=2)\n",
    "plot_confusion_matrix(cnf_matrix, classes=class_names, title='Confusion Matrix: Naive Bayes', normalize=False)"
   ]
  },
  {
   "cell_type": "code",
   "execution_count": 81,
   "metadata": {},
   "outputs": [
    {
     "name": "stdout",
     "output_type": "stream",
     "text": [
      "GaussianNB(priors=array([0.08475, 0.91525]))\n"
     ]
    },
    {
     "data": {
      "image/png": "[encoded data removed]",
      "text/plain": [
       "<matplotlib.figure.Figure at 0x119358e48>"
      ]
     },
     "metadata": {},
     "output_type": "display_data"
    },
    {
     "data": {
      "image/png": "[encoded data removed]",
      "text/plain": [
       "<matplotlib.figure.Figure at 0x119332208>"
      ]
     },
     "metadata": {},
     "output_type": "display_data"
    }
   ],
   "source": [
    "X_minority = np.take(X, positives, axis=0)\n",
    "\n",
    "original_positives_ratio = X_minority.shape[0]/X.shape[0]\n",
    "original_negatives_ratio = 1 - original_positives_ratio\n",
    "\n",
    "original_nb_priors = np.array([original_positives_ratio, original_negatives_ratio])\n",
    "\n",
    "naive_bayes_wo_priors = GaussianNB(original_nb_priors)\n",
    "\n",
    "plot_roc(smote_X_train, smote_y_train, naive_bayes_wo_priors, \"Naïve Bayes\")\n",
    "\n",
    "smote_y_pred = cross_val_predict(clf, smote_X_train, smote_y_train, cv=StratifiedKFold(n_splits=10))\n",
    "cnf_matrix = confusion_matrix(smote_y_train, smote_y_pred)\n",
    "np.set_printoptions(precision=2)\n",
    "plot_confusion_matrix(cnf_matrix, classes=class_names, title='Confusion Matrix: Naive Bayes', normalize=False)"
   ]
  },
  {
   "cell_type": "markdown",
   "metadata": {},
   "source": [
    "The Support Vector Machine (SVM) is another classifier which works by creating a hyperplane that has the largest margin in separating the data. Intuitively, if there is a line with a really big margin, then that implies the model has found a good strategy for classification. We use the various points in the feature space that correspond to our examples as vectors to calculate the margin for the hyperplane, hence the term 'support vectors' because they 'prop up' the hyperplane.\n",
    "\n",
    "The SVM does have considerably greater scope for tuning than a Naive Bayes classifier, but it is more powerful (due to its being a universal approximator) and makes fewer prior assumptions about the data. Let's see what it can do."
   ]
  },
  {
   "cell_type": "code",
   "execution_count": 105,
   "metadata": {},
   "outputs": [
    {
     "name": "stdout",
     "output_type": "stream",
     "text": [
      "Best score: 0.7142857142857143\n",
      "Best parameters: {'C': 200, 'gamma': 1, 'kernel': 'poly'}\n",
      "SVC(C=200, cache_size=200, class_weight='balanced', coef0=0.0,\n",
      "  decision_function_shape='ovr', degree=3, gamma=1, kernel='poly',\n",
      "  max_iter=-1, probability=True, random_state=0, shrinking=True, tol=0.001,\n",
      "  verbose=False)\n",
      "[[0.53 0.15 0.07 ... 0.   0.   0.07]\n",
      " [0.55 0.16 0.07 ... 0.   0.   0.05]\n",
      " [0.59 0.15 0.07 ... 0.   0.   0.05]\n",
      " ...\n",
      " [0.58 0.14 0.06 ... 0.   0.   0.06]\n",
      " [0.57 0.15 0.07 ... 0.   0.   0.05]\n",
      " [0.58 0.16 0.07 ... 0.   0.   0.04]]\n"
     ]
    }
   ],
   "source": [
    "cross_validation = StratifiedKFold(random_state=0, n_splits=10)\n",
    "\n",
    "svm_parameter_grid = {'kernel':('linear', 'rbf', 'poly'), 'C':[1, 10, 100, 200, 400, 1000], 'gamma':[0.001, 0.01, 0.1, 1]}\n",
    "\n",
    "balanced_svm = svm.SVC(random_state=0, probability=True, class_weight='balanced')\n",
    "\n",
    "grid_search = GridSearchCV(balanced_svm, param_grid=svm_parameter_grid, cv=cross_validation, \n",
    "                           scoring=make_scorer(f1_score, average='micro'))\n",
    "\n",
    "grid_search.fit(smote_X_train, smote_y_train)\n",
    "print('Best score: {}'.format(grid_search.best_score_))\n",
    "print('Best parameters: {}'.format(grid_search.best_params_))\n",
    "\n",
    "balanced_svm = grid_search.best_estimator_\n",
    "print(balanced_svm)\n",
    "print(balanced_svm.support_vectors_)"
   ]
  },
  {
   "cell_type": "code",
   "execution_count": 106,
   "metadata": {},
   "outputs": [
    {
     "name": "stdout",
     "output_type": "stream",
     "text": [
      "(51, 21)\n"
     ]
    }
   ],
   "source": [
    "print(balanced_svm.support_vectors_.shape)"
   ]
  },
  {
   "cell_type": "code",
   "execution_count": 99,
   "metadata": {},
   "outputs": [
    {
     "name": "stdout",
     "output_type": "stream",
     "text": [
      "GaussianNB(priors=array([0.08475, 0.91525]))\n",
      "SVC(C=200, cache_size=200, class_weight='balanced', coef0=0.0,\n",
      "  decision_function_shape='ovr', degree=3, gamma=1, kernel='poly',\n",
      "  max_iter=-1, probability=True, random_state=0, shrinking=True, tol=0.001,\n",
      "  verbose=False)\n"
     ]
    },
    {
     "data": {
      "image/png": "[encoded data removed]",
      "text/plain": [
       "<matplotlib.figure.Figure at 0x118a2a240>"
      ]
     },
     "metadata": {},
     "output_type": "display_data"
    }
   ],
   "source": [
    "plot_roc_multiple(smote_X_train, smote_y_train, [naive_bayes_wo_priors, balanced_svm], \"Naïve Bayes v Support Vector Machine\")"
   ]
  },
  {
   "cell_type": "markdown",
   "metadata": {},
   "source": [
    "Onto decision trees. These classifiers attempt to 'divide and conquer' the data by partitioning it based on the results of a series of binary rules. Those rules that maximise the information gain from dividing the data are made explicit, making the decision tree a white-box model and thus extremely useful in a medical context. They are however prone to overfitting if we aren't careful with the maximum depth. So we will need to pay close attention to that particular parameter."
   ]
  },
  {
   "cell_type": "code",
   "execution_count": 114,
   "metadata": {},
   "outputs": [
    {
     "name": "stdout",
     "output_type": "stream",
     "text": [
      "Best score: 0.9\n",
      "Best parameters: {'max_depth': 5, 'max_features': 19}\n"
     ]
    },
    {
     "data": {
      "text/plain": [
       "Text(33,0.5,'max_depth')"
      ]
     },
     "execution_count": 114,
     "metadata": {},
     "output_type": "execute_result"
    },
    {
     "data": {
      "image/png": "[encoded data removed]",
      "text/plain": [
       "<matplotlib.figure.Figure at 0x11869b128>"
      ]
     },
     "metadata": {},
     "output_type": "display_data"
    }
   ],
   "source": [
    "decision_tree_classifier = DecisionTreeClassifier(random_state=0)\n",
    "\n",
    "parameter_grid = { # 'criterion': ['gini', 'entropy'],\n",
    "                  # 'splitter': ['best', 'random'],\n",
    "                  'max_depth': [x+1 for x in range(10)],\n",
    "                  'max_features': [x+1 for x in range(21)]}\n",
    "\n",
    "cross_validation = StratifiedKFold(random_state=0, n_splits=10)\n",
    "\n",
    "grid_search = GridSearchCV(decision_tree_classifier,\n",
    "                           param_grid=parameter_grid,\n",
    "                           cv=cross_validation)\n",
    "\n",
    "grid_search.fit(smote_X_train, smote_y_train)\n",
    "print('Best score: {}'.format(grid_search.best_score_))\n",
    "print('Best parameters: {}'.format(grid_search.best_params_))\n",
    "\n",
    "grid_visualization = []\n",
    "\n",
    "for grid_pair in grid_search.cv_results_:\n",
    "    if \"mean_test_score\" == grid_pair:\n",
    "        for score in grid_search.cv_results_[grid_pair]:\n",
    "            grid_visualization.append(score)\n",
    "    \n",
    "grid_visualization = np.array(grid_visualization)\n",
    "\n",
    "grid_visualization.shape = (10, 21)\n",
    "sb.heatmap(grid_visualization, cmap='Blues')\n",
    "plt.xticks(np.arange(21) + 0.5, grid_search.param_grid['max_features'])\n",
    "plt.yticks(np.arange(10) + 0.5, grid_search.param_grid['max_depth'])\n",
    "plt.xlabel('max_features')\n",
    "plt.ylabel('max_depth')"
   ]
  },
  {
   "cell_type": "code",
   "execution_count": null,
   "metadata": {},
   "outputs": [],
   "source": []
  },
  {
   "cell_type": "code",
   "execution_count": null,
   "metadata": {},
   "outputs": [],
   "source": []
  },
  {
   "cell_type": "code",
   "execution_count": null,
   "metadata": {},
   "outputs": [],
   "source": []
  },
  {
   "cell_type": "code",
   "execution_count": null,
   "metadata": {},
   "outputs": [],
   "source": []
  },
  {
   "cell_type": "code",
   "execution_count": null,
   "metadata": {},
   "outputs": [],
   "source": []
  },
  {
   "cell_type": "code",
   "execution_count": 10,
   "metadata": {},
   "outputs": [
    {
     "ename": "NameError",
     "evalue": "name 'X_train' is not defined",
     "output_type": "error",
     "traceback": [
      "\u001b[0;31m---------------------------------------------------------------------------\u001b[0m",
      "\u001b[0;31mNameError\u001b[0m                                 Traceback (most recent call last)",
      "\u001b[0;32m<ipython-input-10-cb6e9f3bbeb4>\u001b[0m in \u001b[0;36m<module>\u001b[0;34m()\u001b[0m\n\u001b[1;32m     13\u001b[0m \u001b[0;34m\u001b[0m\u001b[0m\n\u001b[1;32m     14\u001b[0m \u001b[0;32mfor\u001b[0m \u001b[0mclf\u001b[0m\u001b[0;34m,\u001b[0m \u001b[0mname\u001b[0m \u001b[0;32min\u001b[0m \u001b[0mzip\u001b[0m\u001b[0;34m(\u001b[0m\u001b[0mclassifiers\u001b[0m\u001b[0;34m,\u001b[0m \u001b[0mnames\u001b[0m\u001b[0;34m)\u001b[0m\u001b[0;34m:\u001b[0m\u001b[0;34m\u001b[0m\u001b[0m\n\u001b[0;32m---> 15\u001b[0;31m     \u001b[0my_pred\u001b[0m \u001b[0;34m=\u001b[0m \u001b[0mcross_val_predict\u001b[0m\u001b[0;34m(\u001b[0m\u001b[0mclf\u001b[0m\u001b[0;34m,\u001b[0m \u001b[0mX_train\u001b[0m\u001b[0;34m,\u001b[0m \u001b[0my_train\u001b[0m\u001b[0;34m,\u001b[0m \u001b[0mcv\u001b[0m\u001b[0;34m=\u001b[0m\u001b[0;36m10\u001b[0m\u001b[0;34m)\u001b[0m\u001b[0;34m\u001b[0m\u001b[0m\n\u001b[0m\u001b[1;32m     16\u001b[0m     \u001b[0mscores\u001b[0m \u001b[0;34m=\u001b[0m \u001b[0mcross_val_score\u001b[0m\u001b[0;34m(\u001b[0m\u001b[0mclf\u001b[0m\u001b[0;34m,\u001b[0m \u001b[0mX_train\u001b[0m\u001b[0;34m,\u001b[0m \u001b[0my_train\u001b[0m\u001b[0;34m,\u001b[0m \u001b[0mcv\u001b[0m\u001b[0;34m=\u001b[0m\u001b[0;36m10\u001b[0m\u001b[0;34m,\u001b[0m \u001b[0mscoring\u001b[0m\u001b[0;34m=\u001b[0m\u001b[0;34m'f1'\u001b[0m\u001b[0;34m)\u001b[0m\u001b[0;34m\u001b[0m\u001b[0m\n\u001b[1;32m     17\u001b[0m \u001b[0;34m\u001b[0m\u001b[0m\n",
      "\u001b[0;31mNameError\u001b[0m: name 'X_train' is not defined"
     ]
    }
   ],
   "source": [
    "nb_priors = np.array([0.39, 0.61])\n",
    "svm_params = {'kernel':('linear', 'rbf', 'poly'), 'C':[1, 10, 100, 200, 400, 1000]}\n",
    "\n",
    "class_names = ['non-fatal', 'fatal']\n",
    "\n",
    "my_svm = svm.SVC(random_state=0)\n",
    "\n",
    "classifiers = [GridSearchCV(my_svm, svm_params, refit=True), \n",
    "                GaussianNB(nb_priors),\n",
    "                DecisionTreeClassifier(random_state=0),\n",
    "                DecisionTreeClassifier(random_state=0, max_depth=3, class_weight='balanced')]\n",
    "names = [\"SVM\", \"NB\", \"DT-basic\", \"DT-adjusted\"]\n",
    "\n",
    "for clf, name in zip(classifiers, names):\n",
    "    y_pred = cross_val_predict(clf, X_train, y_train, cv=10)\n",
    "    scores = cross_val_score(clf, X_train, y_train, cv=10, scoring='f1')\n",
    "    \n",
    "    if name is \"SVM\":\n",
    "        clf.fit(X_train, y_train)\n",
    "        print(clf.best_estimator_)\n",
    "\n",
    "    print(\"F1-score for %s: %0.2f (+/- %0.2f)\" % (name, scores.mean(), scores.std() * 2))\n",
    "\n",
    "    cnf_matrix = confusion_matrix(y_train, y_pred)\n",
    "    np.set_printoptions(precision=2)\n",
    "\n",
    "    plt.figure()\n",
    "    plot_confusion_matrix(cnf_matrix, classes=class_names,\n",
    "                      title='Normalised Confusion Matrix: ' + name, normalize=False)"
   ]
  },
  {
   "cell_type": "code",
   "execution_count": null,
   "metadata": {},
   "outputs": [],
   "source": [
    "import graphviz\n",
    "from sklearn import tree\n",
    "\n",
    "my_tree = classifiers[-1]\n",
    "\n",
    "my_tree.fit(X_res, y_res)\n",
    "\n",
    "dot_data = tree.export_graphviz(my_tree, out_file=None) \n",
    "graph = graphviz.Source(dot_data)\n",
    "\n",
    "dot_data = tree.export_graphviz(my_tree, out_file=None,\n",
    "                         class_names=class_names,  \n",
    "                         filled=True, rounded=True,  \n",
    "                         special_characters=True)\n",
    "graph = graphviz.Source(dot_data)\n",
    "graph\n",
    "# graph.render(\"cancer\") "
   ]
  },
  {
   "cell_type": "code",
   "execution_count": null,
   "metadata": {},
   "outputs": [],
   "source": []
  }
 ],
 "metadata": {
  "kernelspec": {
   "display_name": "Python 3",
   "language": "python",
   "name": "python3"
  },
  "language_info": {
   "codemirror_mode": {
    "name": "ipython",
    "version": 3
   },
   "file_extension": ".py",
   "mimetype": "text/x-python",
   "name": "python",
   "nbconvert_exporter": "python",
   "pygments_lexer": "ipython3",
   "version": "3.6.3"
  }
 },
 "nbformat": 4,
 "nbformat_minor": 2
}
